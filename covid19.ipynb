{
 "cells": [
  {
   "cell_type": "code",
   "execution_count": null,
   "id": "0462dab5",
   "metadata": {
    "vscode": {
     "languageId": "plaintext"
    }
   },
   "outputs": [],
   "source": [
    "# Proje Tanımı ve Amaç\n",
    "\n",
    "Bu proje, Beyaz Saray ve önde gelen araştırma grupları tarafından oluşturulan Covid-19 açık kaynak veri seti (CORD-19) üzerinde metin ve veri madenciliği uygulamaları geliştirmeyi amaçlamaktadır. CORD-19, mevcut olan en kapsamlı koronavirüs literatür koleksiyonunu temsil etmektedir. Koronavirüs literatüründeki hızlı değişimlere bilim insanlarının ayak uydurması zordur. Bu nedenle, tıp camiasının yüksek öncelikli bilimsel sorulara yanıtlar geliştirmesine yardımcı olabilecek metin ve veri madenciliği araçları geliştirilmesi hedeflenmektedir.\n",
    "\n",
    "Bu projede temel amaçlar şunlardır:\n",
    "- CORD-19 veri setinin incelenmesi ve ön işlenmesi\n",
    "- Literatürdeki eğilimlerin ve önemli anahtar kelimelerin belirlenmesi\n",
    "- Bilimsel sorulara yanıt verebilecek metin madenciliği tekniklerinin uygulanması\n",
    "- Elde edilen bulguların görselleştirilmesi ve raporlanması"
   ]
  }
 ],
 "metadata": {
  "language_info": {
   "name": "python"
  }
 },
 "nbformat": 4,
 "nbformat_minor": 5
}
